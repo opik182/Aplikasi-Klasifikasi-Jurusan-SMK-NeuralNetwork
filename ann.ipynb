{
 "cells": [
  {
   "cell_type": "code",
   "execution_count": 1,
   "metadata": {},
   "outputs": [],
   "source": [
    "import pandas as pd\n",
    "import numpy as np\n",
    "from keras import layers\n",
    "from keras.utils import to_categorical\n",
    "from keras.models import Sequential\n",
    "from keras.layers import Dense\n",
    "from sklearn.metrics import confusion_matrix"
   ]
  },
  {
   "cell_type": "code",
   "execution_count": 2,
   "metadata": {},
   "outputs": [],
   "source": [
    "data = pd.read_excel('nilai_rapot.xlsx')"
   ]
  },
  {
   "cell_type": "code",
   "execution_count": null,
   "metadata": {},
   "outputs": [],
   "source": [
    "X=data.iloc[:,0:5].values    # Mengambil data kolom variabel input \n",
    "y=data.iloc[:,-1].values     # Mengambil data kolom variabel output\n",
    "y = to_categorical(y)\n",
    "print(X)\n",
    "print(y)"
   ]
  },
  {
   "cell_type": "code",
   "execution_count": null,
   "metadata": {},
   "outputs": [],
   "source": [
    "from sklearn.preprocessing import StandardScaler\n",
    "scaler = StandardScaler()\n",
    "scaler.fit(X)\n",
    "sc = scaler.transform(X)\n",
    "sc"
   ]
  },
  {
   "cell_type": "code",
   "execution_count": 5,
   "metadata": {},
   "outputs": [],
   "source": [
    "from sklearn.model_selection import train_test_split   # Membagi data training dan data testing\n",
    "X_train, X_test, y_train, y_test = train_test_split(X, y, test_size=0.2, random_state=0)"
   ]
  },
  {
   "cell_type": "code",
   "execution_count": 6,
   "metadata": {},
   "outputs": [],
   "source": [
    "# Membuat model neural network menggunakan Keras\n",
    "model = Sequential()\n",
    "\n",
    "# Menambahkan lapisan input dengan 5 unit dan fungsi aktivasi relu\n",
    "model.add(Dense(units=5, input_dim=5, activation=\"sigmoid\"))\n",
    "\n",
    "# Menambahkan lapisan hidden dengan 8 unit dan fungsi aktivasi relu\n",
    "model.add(Dense(units=8, activation=\"sigmoid\"))\n",
    "\n",
    "# Menambahkan lapisan hidden dengan 6 unit dan fungsi aktivasi relu\n",
    "model.add(Dense(units=6, activation=\"sigmoid\"))\n",
    "\n",
    "# Menambahkan lapisan output dengan 3 unit dan fungsi aktivasi softmax\n",
    "model.add(Dense(units=3, activation=\"softmax\"))"
   ]
  },
  {
   "cell_type": "code",
   "execution_count": 7,
   "metadata": {},
   "outputs": [],
   "source": [
    "model.compile(loss=\"categorical_crossentropy\", optimizer=\"adam\", metrics=[\"accuracy\"])"
   ]
  },
  {
   "cell_type": "code",
   "execution_count": null,
   "metadata": {},
   "outputs": [],
   "source": [
    "model.fit(X_train, y_train, epochs=200, batch_size=10)"
   ]
  },
  {
   "cell_type": "code",
   "execution_count": 9,
   "metadata": {},
   "outputs": [
    {
     "name": "stdout",
     "output_type": "stream",
     "text": [
      "1/1 [==============================] - 1s 1s/step\n"
     ]
    }
   ],
   "source": [
    "# Melakukan prediksi\n",
    "y_pred = model.predict(X_test)"
   ]
  },
  {
   "cell_type": "code",
   "execution_count": 10,
   "metadata": {},
   "outputs": [],
   "source": [
    "from sklearn.metrics import confusion_matrix, accuracy_score, precision_score, recall_score, f1_score"
   ]
  },
  {
   "cell_type": "code",
   "execution_count": 11,
   "metadata": {},
   "outputs": [
    {
     "name": "stdout",
     "output_type": "stream",
     "text": [
      "Confusion matrix:\n",
      "[[16  0  0]\n",
      " [ 3  0  0]\n",
      " [ 2  0  0]]\n",
      "Accuracy  : 76.19%\n",
      "Precision : 76.19%\n",
      "Recall    : 76.19%\n",
      "F-measure : 76.19%\n"
     ]
    }
   ],
   "source": [
    "# Membuat confusion matrix\n",
    "confusion_mat = confusion_matrix(np.argmax(y_test, axis=1), np.argmax(y_pred, axis=1))\n",
    "\n",
    "# Menghitung nilai accuracy, precision, recall, dan f-measure\n",
    "accuracy = accuracy_score(np.argmax(y_test, axis=1), np.argmax(y_pred, axis=1))\n",
    "precision = precision_score(np.argmax(y_test, axis=1), np.argmax(y_pred, axis=1), average=\"micro\")\n",
    "recall = recall_score(np.argmax(y_test, axis=1), np.argmax(y_pred, axis=1), average=\"micro\")\n",
    "f_measure = f1_score(np.argmax(y_test, axis=1), np.argmax(y_pred, axis=1), average=\"micro\")\n",
    "\n",
    "# Menampilkan hasil\n",
    "print(\"Confusion matrix:\")\n",
    "print(confusion_mat)\n",
    "print(\"Accuracy  : {:.2f}%\".format(accuracy*100))\n",
    "print(\"Precision : {:.2f}%\".format(precision*100))\n",
    "print(\"Recall    : {:.2f}%\".format(recall*100))\n",
    "print(\"F-measure : {:.2f}%\".format(f_measure*100))\n"
   ]
  },
  {
   "cell_type": "code",
   "execution_count": 12,
   "metadata": {},
   "outputs": [
    {
     "name": "stdout",
     "output_type": "stream",
     "text": [
      "[[-8.50242822  1.33317272  1.70384009  1.28129496  3.37069002]]\n",
      "1/1 [==============================] - 1s 615ms/step\n",
      "[[0.62096727 0.20409809 0.17493469]]\n",
      "Anda Masuk Jurusan Keperawatan\n"
     ]
    }
   ],
   "source": [
    "input_data = (40.5, 90, 90.3, 90, 98)\n",
    "input_data_as_numpy_array = np.array(input_data)\n",
    "input_data_reshape = input_data_as_numpy_array.reshape(1,-1)\n",
    "std_data = scaler.transform(input_data_reshape)\n",
    "print(std_data)\n",
    "prediction = model.predict(std_data)\n",
    "print(prediction)\n",
    "\n",
    "prediction_class = np.argmax(prediction, axis=1)\n",
    "\n",
    "if prediction_class == 0:\n",
    "    print(\"Anda Masuk Jurusan Keperawatan\")\n",
    "elif prediction_class == 1:\n",
    "    print(\"Anda Masuk Jurusan Farmasi\")\n",
    "else:\n",
    "    print(\"Anda Masuk Jurusan TLM\")\n",
    "\n"
   ]
  },
  {
   "cell_type": "code",
   "execution_count": 13,
   "metadata": {},
   "outputs": [],
   "source": [
    "import pickle"
   ]
  },
  {
   "cell_type": "code",
   "execution_count": 14,
   "metadata": {},
   "outputs": [
    {
     "name": "stdout",
     "output_type": "stream",
     "text": [
      "Keras weights file (<HDF5 file \"variables.h5\" (mode r+)>) saving:\n",
      "...layers\\dense\n",
      "......vars\n",
      ".........0\n",
      ".........1\n",
      "...layers\\dense_1\n",
      "......vars\n",
      ".........0\n",
      ".........1\n",
      "...layers\\dense_2\n",
      "......vars\n",
      ".........0\n",
      ".........1\n",
      "...layers\\dense_3\n",
      "......vars\n",
      ".........0\n",
      ".........1\n",
      "...metrics\\mean\n",
      "......vars\n",
      ".........0\n",
      ".........1\n",
      "...metrics\\mean_metric_wrapper\n",
      "......vars\n",
      ".........0\n",
      ".........1\n",
      "...optimizer\n",
      "......vars\n",
      ".........0\n",
      ".........1\n",
      ".........10\n",
      ".........11\n",
      ".........12\n",
      ".........13\n",
      ".........14\n",
      ".........15\n",
      ".........16\n",
      ".........2\n",
      ".........3\n",
      ".........4\n",
      ".........5\n",
      ".........6\n",
      ".........7\n",
      ".........8\n",
      ".........9\n",
      "...vars\n",
      "Keras model archive saving:\n",
      "File Name                                             Modified             Size\n",
      "config.json                                    2023-01-06 22:37:17         2256\n",
      "metadata.json                                  2023-01-06 22:37:17           64\n",
      "variables.h5                                   2023-01-06 22:37:18        27144\n"
     ]
    }
   ],
   "source": [
    "filename = 'ann_model_clasifier.sav'\n",
    "pickle.dump(model, open(filename, 'wb'))"
   ]
  }
 ],
 "metadata": {
  "kernelspec": {
   "display_name": "ANN",
   "language": "python",
   "name": "python3"
  },
  "language_info": {
   "codemirror_mode": {
    "name": "ipython",
    "version": 3
   },
   "file_extension": ".py",
   "mimetype": "text/x-python",
   "name": "python",
   "nbconvert_exporter": "python",
   "pygments_lexer": "ipython3",
   "version": "3.9.15"
  },
  "orig_nbformat": 4,
  "vscode": {
   "interpreter": {
    "hash": "208c3d701e83b095600993e6787e017a50e8d4fb995212fa6223a2a196da956e"
   }
  }
 },
 "nbformat": 4,
 "nbformat_minor": 2
}
